{
 "cells": [
  {
   "cell_type": "markdown",
   "metadata": {},
   "source": [
    "# Movies"
   ]
  },
  {
   "cell_type": "markdown",
   "metadata": {},
   "source": [
    "```\n",
    "updateMovieDb\n",
    "\n",
    "\n",
    "getMoviesToWatch\n",
    "  load movies from csv\n",
    "  sort movie by last day to watch ASC, rating DESC\n",
    "\n",
    "markMovieWatched(movieName)  \n",
    "```"
   ]
  },
  {
   "cell_type": "markdown",
   "metadata": {},
   "source": [
    "## Setup"
   ]
  },
  {
   "cell_type": "code",
   "execution_count": null,
   "metadata": {},
   "outputs": [],
   "source": [
    "%pip install --upgrade pip"
   ]
  },
  {
   "cell_type": "code",
   "execution_count": null,
   "metadata": {},
   "outputs": [],
   "source": [
    "%pip install requests"
   ]
  },
  {
   "cell_type": "code",
   "execution_count": null,
   "metadata": {},
   "outputs": [],
   "source": [
    "%pip install pandas"
   ]
  },
  {
   "cell_type": "code",
   "execution_count": null,
   "metadata": {},
   "outputs": [],
   "source": [
    "import utils"
   ]
  },
  {
   "cell_type": "code",
   "execution_count": null,
   "metadata": {},
   "outputs": [],
   "source": [
    "utils.updateMovieDb()"
   ]
  },
  {
   "cell_type": "markdown",
   "metadata": {},
   "source": [
    "## Get Last Day To Watch"
   ]
  },
  {
   "cell_type": "markdown",
   "metadata": {},
   "source": [
    "## Get rating"
   ]
  },
  {
   "cell_type": "code",
   "execution_count": null,
   "metadata": {},
   "outputs": [],
   "source": [
    "# https://imdb-api.com/api/#Ratings-header\n",
    "# https://imdb-api.com/en/API/Search/k_e9n79f4d/stranger%20things\n",
    "# https://imdb-api.com/en/API/UserRatings/k_e9n79f4d/tt4574334"
   ]
  },
  {
   "cell_type": "code",
   "execution_count": null,
   "metadata": {},
   "outputs": [],
   "source": [
    "INFO:root:Finding movie with title: \"Shrek\"\n",
    "INFO:root:Getting rating of movie: \"tt0126029\"\n",
    "INFO:root:Finding movie with title: \"Shrek 2\"\n",
    "INFO:root:Getting rating of movie: \"tt0298148\"\n",
    "INFO:root:Finding movie with title: \"Ultraviolet\"\n",
    "INFO:root:Getting rating of movie: \"tt0370032\"\n",
    "INFO:root:Finding movie with title: \"The Incredible Hulk\"\n",
    "INFO:root:Getting rating of movie: \"tt0800080\"\n",
    "INFO:root:Finding movie with title: \"Shrek Forever After\"\n",
    "INFO:root:Getting rating of movie: \"tt0892791\"\n",
    "INFO:root:Finding movie with title: \"Merlin\"\n",
    "INFO:root:Getting rating of movie: \"tt1199099\"\n",
    "INFO:root:Finding movie with title: \"Hell's Kitchen\"\n",
    "INFO:root:Getting rating of movie: \"tt0437005\"\n",
    "INFO:root:Finding movie with title: \"The Dark Knight Rises\"\n",
    "INFO:root:Getting rating of movie: \"tt1345836\"\n",
    "INFO:root:Finding movie with title: \"The Hobbit: The Desolation of Smaug\"\n",
    "INFO:root:Getting rating of movie: \"tt1170358\"\n",
    "INFO:root:Finding movie with title: \"The 100\"\n",
    "INFO:root:Getting rating of movie: \"tt2661044\"\n",
    "INFO:root:Finding movie with title: \"The Hobbit: The Battle of the Five Armies\"\n",
    "INFO:root:Getting rating of movie: \"tt2310332\"\n",
    "INFO:root:Finding movie with title: \"Z Nation\"\n",
    "INFO:root:Getting rating of movie: \"tt3843168\"\n",
    "INFO:root:Finding movie with title: \"The Adventures of Puss in Boots\"\n",
    "INFO:root:Getting rating of movie: \"tt3807034\"\n",
    "INFO:root:Finding movie with title: \"The Flash\"\n",
    "INFO:root:Getting rating of movie: \"tt3107288\"\n",
    "INFO:root:Finding movie with title: \"The Legend of Korra\"\n",
    "INFO:root:Getting rating of movie: \"tt1695360\"\n",
    "INFO:root:Finding movie with title: \"AJIN: Demi-Human\"\n",
    "INFO:root:Getting rating of movie: \"tt6215712\"\n",
    "INFO:root:Finding movie with title: \"Stranger Things\"\n",
    "INFO:root:Getting rating of movie: \"tt4574334\"\n",
    "INFO:root:Finding movie with title: \"Shadowhunters: The Mortal Instruments\"\n",
    "INFO:root:Getting rating of movie: \"tt4145054\"\n",
    "INFO:root:Finding movie with title: \"Lost in Space\"\n",
    "INFO:root:Getting rating of movie: \"tt5232792\"\n",
    "INFO:root:Finding movie with title: \"Erased\"\n",
    "INFO:root:Getting rating of movie: \"tt5249462\"\n",
    "INFO:root:Finding movie with title: \"One-Punch Man\"\n",
    "INFO:root:Getting rating of movie: \"tt4508902\"\n",
    "INFO:root:Finding movie with title: \"Little Witch Academia\"\n",
    "INFO:root:Getting rating of movie: \"tt6352180\"\n",
    "INFO:root:Finding movie with title: \"Mob Psycho 100\"\n",
    "INFO:root:Getting rating of movie: \"tt5897304\"\n",
    "INFO:root:Finding movie with title: \"The Haunting of Hill House\"\n",
    "INFO:root:Getting rating of movie: \"tt6763664\"\n",
    "INFO:root:Finding movie with title: \"Money Heist\"\n",
    "INFO:root:Getting rating of movie: \"tt13696452\"\n",
    "INFO:root:Finding movie with title: \"Aggretsuko\"\n",
    "INFO:root:Getting rating of movie: \"tt8019444\"\n",
    "INFO:root:Finding movie with title: \"Blood Blockade Battlefront\"\n",
    "INFO:root:Getting rating of movie: \"tt4379632\"\n",
    "INFO:root:Finding movie with title: \"You\"\n",
    "INFO:root:Getting rating of movie: \"tt7335184\"\n",
    "INFO:root:Finding movie with title: \"Titans\"\n",
    "INFO:root:Getting rating of movie: \"tt1043813\"\n",
    "INFO:root:Finding movie with title: \"Chilling Adventures of Sabrina\"\n",
    "INFO:root:Getting rating of movie: \"tt7569592\"\n",
    "INFO:root:Finding movie with title: \"The Order\"\n",
    "INFO:root:Getting rating of movie: \"tt8295472\"\n",
    "INFO:root:Finding movie with title: \"Jurassic World Camp Cretaceous\"\n",
    "INFO:root:Getting rating of movie: \"tt10436228\"\n",
    "INFO:root:Finding movie with title: \"Guardian: The Lonely and Great God\"\n",
    "INFO:root:Getting rating of movie: \"tt5994364\"\n",
    "INFO:root:Finding movie with title: \"High-Rise Invasion\"\n",
    "INFO:root:Getting rating of movie: \"tt13352232\"\n",
    "INFO:root:Finding movie with title: \"SPRIGGAN\"\n",
    "INFO:root:Getting rating of movie: \"tt10011306\"\n",
    "INFO:root:Finding movie with title: \"BEASTARS\"\n",
    "INFO:root:Getting rating of movie: \"tt11043632\"\n",
    "INFO:root:Finding movie with title: \"The Rising of the Shield Hero\"\n",
    "INFO:root:Getting rating of movie: \"tt9529546\"\n",
    "INFO:root:Finding movie with title: \"Arifureta: From Commonplace to World's Strongest\"\n",
    "INFO:root:Getting rating of movie: \"tt10431290\"\n",
    "INFO:root:Finding movie with title: \"The Promised Neverland\"\n",
    "INFO:root:Getting rating of movie: \"tt8788458\"\n",
    "INFO:root:Finding movie with title: \"Angry Birds: Summer Madness\"\n",
    "INFO:root:Getting rating of movie: \"tt12027896\"\n",
    "INFO:root:Finding movie with title: \"Komi Can't Communicate\"\n",
    "INFO:root:Getting rating of movie: \"tt14626352\"\n",
    "INFO:root:Finding movie with title: \"Baki Hanma\"\n",
    "INFO:root:Getting rating of movie: \"tt13357140\"\n",
    "INFO:root:Finding movie with title: \"Sing \"Yesterday\" for Me\"\n",
    "INFO:root:Getting rating of movie: \"tt10204658\"\n",
    "INFO:root:Finding movie with title: \"The Hidden Lives of Pets\""
   ]
  }
 ],
 "metadata": {
  "kernelspec": {
   "display_name": "Python 3.8.9 ('.venv': venv)",
   "language": "python",
   "name": "python3"
  },
  "language_info": {
   "codemirror_mode": {
    "name": "ipython",
    "version": 3
   },
   "file_extension": ".py",
   "mimetype": "text/x-python",
   "name": "python",
   "nbconvert_exporter": "python",
   "pygments_lexer": "ipython3",
   "version": "3.8.9"
  },
  "orig_nbformat": 4,
  "vscode": {
   "interpreter": {
    "hash": "30e736ca548ca53d07c6c63f5f7e249fafdd2b8cdf5878d80cbb1f5088de9f21"
   }
  }
 },
 "nbformat": 4,
 "nbformat_minor": 2
}
