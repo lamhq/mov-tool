{
 "cells": [
  {
   "attachments": {},
   "cell_type": "markdown",
   "metadata": {},
   "source": [
    "# Movie Tool"
   ]
  },
  {
   "cell_type": "code",
   "execution_count": null,
   "metadata": {},
   "outputs": [],
   "source": [
    "%pip install requests\n",
    "%pip install pandas\n",
    "%pip install beautifulsoup4\n",
    "%pip install cinemagoer"
   ]
  },
  {
   "cell_type": "code",
   "execution_count": 3,
   "metadata": {},
   "outputs": [],
   "source": [
    "import pandas as pd\n",
    "import numpy as np\n",
    "import time\n",
    "import datetime\n",
    "import utils\n",
    "\n",
    "# IMDB_API_KEY = 'k_e9n79f4d' # daibanglam\n",
    "IMDB_API_KEY = 'k_x9atwnz9' # gravitylabs\n",
    "\n",
    "# the cookie for making API request to Netflix\n",
    "# it can be retrieved from Chrome Dev Tool, after logging to Netflix\n",
    "cookie = 'memclid=b783e450-fa77-488c-b3e2-beff624d26da; nfvdid=BQFmAAEBEEVEA6OC5bEMUUnOPrODS8pgtswkpg-fPl9nVBvzgBL6h4xcvm1AW25uw7kCk3ontTzlyk_IFIznVD7tQB97u8Sb9yS3ZTnKWCiKr7ML5MnwT0FDrZ5vU5D__d-e0TaPHF35IjWRoAUBT5CD29YZRJBC; netflix-sans-normal-3-loaded=true; netflix-sans-bold-3-loaded=true; SecureNetflixId=v%3D2%26mac%3DAQEAEQABABSAzFtR1_DQDeTeE_cs6BSVZTnOPPH7nhw.%26dt%3D1678850528044; NetflixId=ct%3DBQAOAAEBEPZtIjiITaLAjPHmT8jTaq6CUJGFXdchN_Zw-Vx7cAp_OLQ4n1G40FIEEK7V31GV7ekZfVgrcYKqn5MiwcSe29CMiHtsofe2gCh82PpPrA73UhReC-q_dzk5uevCmNNqO0WSa9kZ43iv1s3gOBSLRVVb-DGNKlwycF5hjDc35qDaHwu_CFr3_IGHxJv3penntkSncxthYn-7nPjP55hxpY3igY92-RliOVFx_AByre7Y67bbFX_HqKUMHM9korEcHEqNFGmvMwzynjNidRg4AcR_amRe6L76e9EwFQOObonBiBg5GUe4N0nNZtk5UPCW66cbQaUqdiKQLZuym2IXqeddHQXJEnhia4E-8yV-b67xHWt954Whefxdup61cVwvNsByhcbNXi3NGrbNJYkJtCVfd082MLjjTEFtvWAXUa3q9k17iab3NEE_awvaqhjeHSI2ZllJkH0GC57LZ4S5ICXLXnmpvNbjFjaDXAWheR7rFViVBTg-MlJZMRtmaWfa8N-Ho6_DP7a6_vqjtz6LYkVAtrju_h66QGuUDmfSbXGsfF3T9OcDW1ei2mvKIh6HQG2LzGvGR8yFSUXLKvth5C3HTph9GnxNVUW0cad136VQALpw81bxbdH_bd3xjL0EXSRNAJMJSywgllhFefBzEjCwV42maxqdVFi6AUDi1uJPw4Y6mLn4P-AwXxveScx8feUM9qSy5jlZUMTdVVwgsKNarvLVzgaUZF0q9NrkmQPvP1ZQNE20c8eOBgOuJYA8_Yx8zC0PKvvcXC1tKHrP9Ep16LqNbJte6cIAjWRDuV7nFgY.%26bt%3Ddbl%26ch%3DAQEAEAABABQnw__eUldKi0gl_1tUcwDpV3QssXhziJU.%26v%3D2%26mac%3DAQEAEAABABRdvju3TEOdz_bObCmuQ6s-5JmLA592VCg.; profilesNewSession=0; OptanonConsent=isIABGlobal=false&datestamp=Wed+Mar+15+2023+11%3A00%3A35+GMT%2B0700+(Indochina+Time)&version=202301.1.0&consentId=22b81ae4-c299-4a0c-ac36-055cb8f2e01c&interactionCount=1&landingPath=NotLandingPage&groups=C0001%3A1%2CC0002%3A1%2CC0003%3A1%2CC0004%3A1&hosts=&AwaitingReconsent=false&isGpcEnabled=0'\n",
    "\n",
    "imdb_client = utils.CinemagoerImdbStrategy()\n",
    "netflix_client = utils.HttpNetflixStrategy(cookie)"
   ]
  },
  {
   "attachments": {},
   "cell_type": "markdown",
   "metadata": {},
   "source": [
    "## Load movie list"
   ]
  },
  {
   "cell_type": "code",
   "execution_count": 11,
   "metadata": {},
   "outputs": [
    {
     "data": {
      "text/plain": [
       "591"
      ]
     },
     "execution_count": 11,
     "metadata": {},
     "output_type": "execute_result"
    }
   ],
   "source": [
    "mov_file = 'data/movies.csv'\n",
    "df = pd.read_csv(mov_file, index_col='Netflix Id')\n",
    "len(df)"
   ]
  },
  {
   "attachments": {},
   "cell_type": "markdown",
   "metadata": {},
   "source": [
    "## Save movie list"
   ]
  },
  {
   "cell_type": "code",
   "execution_count": 10,
   "metadata": {},
   "outputs": [],
   "source": [
    "df.to_csv('data/movies.csv')"
   ]
  },
  {
   "attachments": {},
   "cell_type": "markdown",
   "metadata": {},
   "source": [
    "## Get My List movies"
   ]
  },
  {
   "cell_type": "markdown",
   "metadata": {},
   "source": [
    "Fetch movies from My List"
   ]
  },
  {
   "cell_type": "code",
   "execution_count": 6,
   "metadata": {},
   "outputs": [
    {
     "data": {
      "text/plain": [
       "325"
      ]
     },
     "execution_count": 6,
     "metadata": {},
     "output_type": "execute_result"
    }
   ],
   "source": [
    "my_list_movies = netflix_client.get_my_list()\n",
    "len(my_list_movies)"
   ]
  },
  {
   "cell_type": "markdown",
   "metadata": {},
   "source": [
    "Add new movies to movie list"
   ]
  },
  {
   "cell_type": "code",
   "execution_count": 7,
   "metadata": {},
   "outputs": [
    {
     "data": {
      "text/plain": [
       "591"
      ]
     },
     "execution_count": 7,
     "metadata": {},
     "output_type": "execute_result"
    }
   ],
   "source": [
    "new_movies = [mov for mov in my_list_movies if mov['Netflix Id'] not in df.index]\n",
    "if len(new_movies) > 0:\n",
    "  df = pd.concat([df, pd.DataFrame.from_records(new_movies, index='Netflix Id')])\n",
    "len(df)"
   ]
  },
  {
   "attachments": {},
   "cell_type": "markdown",
   "metadata": {},
   "source": [
    "## Get Last day to watch on Netflix"
   ]
  },
  {
   "cell_type": "code",
   "execution_count": null,
   "metadata": {},
   "outputs": [],
   "source": [
    "now = datetime.date.today()\n",
    "\n",
    "df2 = df[(df['Netflix Original']==False) & (df['Watched']==False)].copy()\n",
    "df2['Movie Type Rank'] = pd.Categorical(df2['Movie Type'], categories=['Movie', 'TV Series'], ordered=True)\n",
    "df2.sort_values(\n",
    "  by=['Last Day To Watch', 'Movie Type Rank', 'Imdb Rating'], \n",
    "  ascending=[True, True, False], \n",
    "  na_position='first',\n",
    "  inplace=True,\n",
    ")\n",
    "\n",
    "for index, row in df2.iterrows():\n",
    "  # skip it has been processed\n",
    "  last_fetch = df.at[index, 'Last Fetch']\n",
    "  if isinstance(last_fetch, str) and (now - datetime.datetime.strptime(last_fetch, '%Y-%m-%d').date()).days < 5:\n",
    "    continue\n",
    "  \n",
    "  df.at[index, 'Last Day To Watch'] = netflix_client.get_last_date_to_watch(index)\n",
    "  df.at[index, 'Last Fetch'] = now.isoformat()"
   ]
  },
  {
   "attachments": {},
   "cell_type": "markdown",
   "metadata": {},
   "source": [
    "## Get genres and rating"
   ]
  },
  {
   "cell_type": "code",
   "execution_count": null,
   "metadata": {},
   "outputs": [],
   "source": [
    "df2 = df[(df['Watched']==False) & df['Imdb Id'].isna()].copy()\n",
    "df2['Movie Type Rank'] = pd.Categorical(df2['Movie Type'], categories=['Movie', 'TV Series'], ordered=True)\n",
    "df2.sort_values(by=['Last Day To Watch', 'Movie Type Rank'], \n",
    "                ascending=[True, True], \n",
    "                na_position='last', \n",
    "                inplace=True)\n",
    "now = datetime.date.today()\n",
    "\n",
    "for index, row in df2.iterrows():\n",
    "  print(f\"processing movie {row['Title']}\")\n",
    "  info = imdb_client.get_movie_info(row['Title'], row['Release Year'])\n",
    "  if info is None:\n",
    "    continue\n",
    "  \n",
    "  df.at[index, 'Imdb Id'] = info.id\n",
    "  df.at[index, 'Genres'] = ','.join(info.genres)\n",
    "  df.at[index, 'Imdb Rating'] = info.rating\n",
    "  time.sleep(1)"
   ]
  },
  {
   "cell_type": "markdown",
   "metadata": {},
   "source": [
    "## Find movies to watch"
   ]
  },
  {
   "cell_type": "code",
   "execution_count": 12,
   "metadata": {},
   "outputs": [
    {
     "data": {
      "text/html": [
       "\n",
       "<table border=\"1\" class=\"dataframe\">\n",
       "  <thead>\n",
       "    <tr style=\"text-align: right;\">\n",
       "      <th>Image</th>\n",
       "      <th>Title</th>\n",
       "      <th>Last Day To Watch</th>\n",
       "      <th>Rating</th>\n",
       "      <th>Genres</th>\n",
       "      <th>Movie Type</th>\n",
       "    </tr>\n",
       "  </thead>\n",
       "  <tbody>\n",
       "  <tr>\n",
       "      <td><a href=\"https://www.netflix.com/title/342807\"><img src=\"https://occ-0-58-395.1.nflxso.net/dnm/api/v6/X194eJsgWBDE2aQbaNdmCXGUP-Y/AAAABbUZIsfRMDRuS0AMCPDFT55WHCXAkK2kQizKhwB-IFVxn8u9RDIeGTufDdFBJ8ijHL8-BxNBJ5LVvFoNEwaokij9ma8YrnCcZZk.webp?r=85d\" width=\"171\" height=\"96\" /></a><t/d>\n",
       "      <td><a href=\"https://www.netflix.com/title/342807\">The Cable Guy</a><t/d>\n",
       "      <td>2023-03-30</td>\n",
       "      <td><a href=\"https://www.imdb.com/title/tt0115798\">6.1</a></td>\n",
       "      <td>Comedy,Drama,Thriller</td>\n",
       "      <td>Movie</td>\n",
       "    </tr>\n",
       "<tr>\n",
       "      <td><a href=\"https://www.netflix.com/title/70213514\"><img src=\"https://occ-0-58-395.1.nflxso.net/dnm/api/v6/X194eJsgWBDE2aQbaNdmCXGUP-Y/AAAABeYXKDCD0La9hr4XdldXpNnqJxfp7p4ayWfns1BWBFxRcfddT0enDL1YJ5sHVpGfVfTozeKlxDINUrENfNWqlVH_whQcaQRaLyI.webp?r=181\" width=\"171\" height=\"96\" /></a><t/d>\n",
       "      <td><a href=\"https://www.netflix.com/title/70213514\">The Dark Knight Rises</a><t/d>\n",
       "      <td>2023-03-31</td>\n",
       "      <td><a href=\"https://www.imdb.com/title/tt1345836\">8.4</a></td>\n",
       "      <td>Action,Drama</td>\n",
       "      <td>Movie</td>\n",
       "    </tr>\n",
       "<tr>\n",
       "      <td><a href=\"https://www.netflix.com/title/70021642\"><img src=\"https://occ-0-58-395.1.nflxso.net/dnm/api/v6/X194eJsgWBDE2aQbaNdmCXGUP-Y/AAAABf7OPLj6PQ85a-buCX2lhK-jbR25QHriEqQOj2fDsaMr5s8tVYJnGQ1IF_8Fetw6PpoevdPbohVEaqtn0vbTMBwvgg40kvuKZXU.webp?r=bca\" width=\"171\" height=\"96\" /></a><t/d>\n",
       "      <td><a href=\"https://www.netflix.com/title/70021642\">Batman Begins</a><t/d>\n",
       "      <td>2023-03-31</td>\n",
       "      <td><a href=\"https://www.imdb.com/title/tt0372784\">8.2</a></td>\n",
       "      <td>Action,Crime,Drama</td>\n",
       "      <td>Movie</td>\n",
       "    </tr>\n",
       "<tr>\n",
       "      <td><a href=\"https://www.netflix.com/title/70109893\"><img src=\"https://occ-0-58-395.1.nflxso.net/dnm/api/v6/X194eJsgWBDE2aQbaNdmCXGUP-Y/AAAABTaAwfdIr4BHtnhiqYWmpWs6rxBnSmSQUzPCrxOHXzledLMBo8-ZSBjdGqOmZPfPmoenk34qWXSofCVo0ocxST0tt4lB1VVVv4Q.webp?r=347\" width=\"171\" height=\"96\" /></a><t/d>\n",
       "      <td><a href=\"https://www.netflix.com/title/70109893\">How to Train Your Dragon</a><t/d>\n",
       "      <td>2023-03-31</td>\n",
       "      <td><a href=\"https://www.imdb.com/title/tt0892769\">8.1</a></td>\n",
       "      <td>Animation,Action,Adventure</td>\n",
       "      <td>Movie</td>\n",
       "    </tr>\n",
       "<tr>\n",
       "      <td><a href=\"https://www.netflix.com/title/60020686\"><img src=\"https://occ-0-58-395.1.nflxso.net/dnm/api/v6/X194eJsgWBDE2aQbaNdmCXGUP-Y/AAAABUo5rp96CNuW41_NLHpZhsBQUzUY0fyOfx5NpujpuFNegrj2McSyr9JcUfPGWrGnLET1u39m34-0sGe7B79uQ1ZB26wPRQYmhzg.webp?r=c17\" width=\"171\" height=\"96\" /></a><t/d>\n",
       "      <td><a href=\"https://www.netflix.com/title/60020686\">Shrek</a><t/d>\n",
       "      <td>2023-03-31</td>\n",
       "      <td><a href=\"https://www.imdb.com/title/tt0126029\">7.9</a></td>\n",
       "      <td>Animation,Adventure,Comedy</td>\n",
       "      <td>Movie</td>\n",
       "    </tr>\n",
       "<tr>\n",
       "      <td><a href=\"https://www.netflix.com/title/80117799\"><img src=\"https://occ-0-58-395.1.nflxso.net/dnm/api/v6/X194eJsgWBDE2aQbaNdmCXGUP-Y/AAAABfk60l0FzzysEWHYJN2hr2kgQOPwMfg-fLVDSCg7d2rzDFunF-WiUK_okcIBr0-cxzvKon36iMMO6XGDIu5njYF2kRv83EshxoA.webp?r=1aa\" width=\"171\" height=\"96\" /></a><t/d>\n",
       "      <td><a href=\"https://www.netflix.com/title/80117799\">Arrival</a><t/d>\n",
       "      <td>2023-03-31</td>\n",
       "      <td><a href=\"https://www.imdb.com/title/tt2543164\">7.9</a></td>\n",
       "      <td>nan</td>\n",
       "      <td>Movie</td>\n",
       "    </tr>\n",
       "<tr>\n",
       "      <td><a href=\"https://www.netflix.com/title/70054920\"><img src=\"https://occ-0-58-395.1.nflxso.net/dnm/api/v6/6gmvu2hxdfnQ55LZZjyzYR4kzGk/AAAABeSo0mMHXip0owooio_xw-9BT4ZKKoXYnA2weK_CkILOFmWS8qvP2ddEfhcgi7EWk7Tv37OXQLIxVr6B_2xv4mK3lqqX0QoExhE.webp?r=bb2\" width=\"171\" height=\"96\" /></a><t/d>\n",
       "      <td><a href=\"https://www.netflix.com/title/70054920\">Stardust</a><t/d>\n",
       "      <td>2023-03-31</td>\n",
       "      <td><a href=\"https://www.imdb.com/title/tt0486655\">7.6</a></td>\n",
       "      <td>nan</td>\n",
       "      <td>Movie</td>\n",
       "    </tr>\n",
       "<tr>\n",
       "      <td><a href=\"https://www.netflix.com/title/60034572\"><img src=\"https://occ-0-58-395.1.nflxso.net/dnm/api/v6/X194eJsgWBDE2aQbaNdmCXGUP-Y/AAAABcNpNOXauEB-7I2tN6qiLmW3Qqc90OOAkGHcl8sFMFUM386s8cXT-55YAuTEQr3tItpXRyH3HKnxO0icoiJqSFDcLOsuhHUi91k.webp?r=55c\" width=\"171\" height=\"96\" /></a><t/d>\n",
       "      <td><a href=\"https://www.netflix.com/title/60034572\">Shrek 2</a><t/d>\n",
       "      <td>2023-03-31</td>\n",
       "      <td><a href=\"https://www.imdb.com/title/tt0298148\">7.3</a></td>\n",
       "      <td>Animation,Adventure,Comedy</td>\n",
       "      <td>Movie</td>\n",
       "    </tr>\n",
       "<tr>\n",
       "      <td><a href=\"https://www.netflix.com/title/80117526\"><img src=\"https://occ-0-58-395.1.nflxso.net/dnm/api/v6/6gmvu2hxdfnQ55LZZjyzYR4kzGk/AAAABTs-2D_qRIPu3PNxN2McwBikr_IVUHSefOEg95_9wEf_fxGvexp3En5B7ekWg2Ruif5qndgfvdqsj_cmzeg8aIbNhOSWPQFmUu8.webp?r=9f8\" width=\"171\" height=\"96\" /></a><t/d>\n",
       "      <td><a href=\"https://www.netflix.com/title/80117526\">Sing</a><t/d>\n",
       "      <td>2023-03-31</td>\n",
       "      <td><a href=\"https://www.imdb.com/title/tt3470600\">7.1</a></td>\n",
       "      <td>nan</td>\n",
       "      <td>Movie</td>\n",
       "    </tr>\n",
       "<tr>\n",
       "      <td><a href=\"https://www.netflix.com/title/70270408\"><img src=\"https://occ-0-58-395.1.nflxso.net/dnm/api/v6/X194eJsgWBDE2aQbaNdmCXGUP-Y/AAAABd1In9vZoInuecIGyW-lFneyG9rnPjyqUxTiv0zW7KdWCPpobl89imicqC4lyDGBJFCPWPlZE13V2QouubjRx6Z6_rlDnGPLHAc.webp?r=884\" width=\"171\" height=\"96\" /></a><t/d>\n",
       "      <td><a href=\"https://www.netflix.com/title/70270408\">We're the Millers</a><t/d>\n",
       "      <td>2023-03-31</td>\n",
       "      <td><a href=\"https://www.imdb.com/title/tt1723121\">7.0</a></td>\n",
       "      <td>Comedy,Crime</td>\n",
       "      <td>Movie</td>\n",
       "    </tr>\n",
       "<tr>\n",
       "      <td><a href=\"https://www.netflix.com/title/70042678\"><img src=\"https://occ-0-58-395.1.nflxso.net/dnm/api/v6/6gmvu2hxdfnQ55LZZjyzYR4kzGk/AAAABVrDgMWfaZd8rzb8NKZb91jd3V-TR08Fr3Paui-FX3ETIQziIvSqc5pTgIutEqtqsh9-tD1aSlXF9zuB2aFJ_ZBTXb3FbRXbc74.webp?r=b1d\" width=\"171\" height=\"96\" /></a><t/d>\n",
       "      <td><a href=\"https://www.netflix.com/title/70042678\">Underworld: Evolution</a><t/d>\n",
       "      <td>2023-03-31</td>\n",
       "      <td><a href=\"https://www.imdb.com/title/tt0401855\">6.7</a></td>\n",
       "      <td>nan</td>\n",
       "      <td>Movie</td>\n",
       "    </tr>\n",
       "<tr>\n",
       "      <td><a href=\"https://www.netflix.com/title/80048224\"><img src=\"https://occ-0-58-395.1.nflxso.net/dnm/api/v6/6gmvu2hxdfnQ55LZZjyzYR4kzGk/AAAABUCuN-ySftF224hAF-iWMo2Or3uA8CwWd5BjsKVR5zPAKo9jWchIe8iuxDQQUcadMgHyzVWSHxLtYJZi43TCkNJu9yfgmshnNRk.webp?r=22a\" width=\"171\" height=\"96\" /></a><t/d>\n",
       "      <td><a href=\"https://www.netflix.com/title/80048224\">Vacation</a><t/d>\n",
       "      <td>2023-03-31</td>\n",
       "      <td><a href=\"https://www.imdb.com/title/tt1524930\">6.1</a></td>\n",
       "      <td>nan</td>\n",
       "      <td>Movie</td>\n",
       "    </tr>\n",
       "<tr>\n",
       "      <td><a href=\"https://www.netflix.com/title/80098100\"><img src=\"https://occ-0-58-395.1.nflxso.net/dnm/api/v6/6gmvu2hxdfnQ55LZZjyzYR4kzGk/AAAABaOYm48fH2cG-jPMuLqdnCnGRCAgs-dirx4wzPCSEFp2PONRdciFB7uQ9cu0K4DG4FrlaZP9-2XI6rtduun9R32hpnckj6yAGLA.webp?r=09d\" width=\"171\" height=\"96\" /></a><t/d>\n",
       "      <td><a href=\"https://www.netflix.com/title/80098100\">Sausage Party</a><t/d>\n",
       "      <td>2023-03-31</td>\n",
       "      <td><a href=\"https://www.imdb.com/title/tt1700841\">6.1</a></td>\n",
       "      <td>nan</td>\n",
       "      <td>Movie</td>\n",
       "    </tr>\n",
       "<tr>\n",
       "      <td><a href=\"https://www.netflix.com/title/70299746\"><img src=\"https://occ-0-58-395.1.nflxso.net/dnm/api/v6/6gmvu2hxdfnQ55LZZjyzYR4kzGk/AAAABTfcyUNBgTXQLIQndwczF0ne7QCtYQeZ2b2mpwlZbwzvF0t4lcd494cTdwianxvITLay2xI27JuBCldCx9XvLYQO0GCbONMBi0U.webp?r=4cc\" width=\"171\" height=\"96\" /></a><t/d>\n",
       "      <td><a href=\"https://www.netflix.com/title/70299746\">Think Like a Man Too</a><t/d>\n",
       "      <td>2023-03-31</td>\n",
       "      <td><a href=\"https://www.imdb.com/title/tt2239832\">5.7</a></td>\n",
       "      <td>nan</td>\n",
       "      <td>Movie</td>\n",
       "    </tr>\n",
       "<tr>\n",
       "      <td><a href=\"https://www.netflix.com/title/70084801\"><img src=\"https://occ-0-58-395.1.nflxso.net/dnm/api/v6/X194eJsgWBDE2aQbaNdmCXGUP-Y/AAAABXvqovskHPi3mc3MtucSnfm15PxM7SWBW0ZDqq4OVufRc7N6hnbC3Whg6jKYvSOE2-IsImGA6gBILDWWzaUkdWZAElprzU9ECN0.webp?r=363\" width=\"171\" height=\"96\" /></a><t/d>\n",
       "      <td><a href=\"https://www.netflix.com/title/70084801\">Sex and the City: The Movie</a><t/d>\n",
       "      <td>2023-03-31</td>\n",
       "      <td><a href=\"https://www.imdb.com/title/tt1000774\">5.6</a></td>\n",
       "      <td>Comedy,Drama,Romance</td>\n",
       "      <td>Movie</td>\n",
       "    </tr>\n",
       "<tr>\n",
       "      <td><a href=\"https://www.netflix.com/title/80013272\"><img src=\"https://occ-0-58-395.1.nflxso.net/dnm/api/v6/6gmvu2hxdfnQ55LZZjyzYR4kzGk/AAAABXbwjpQNAWlcRwX_27hZhUv7Eao1KEvzH7kjCGT69wu-LIkpHfphS0jmNaeAghywh-nneamMkwBejsjyWWlPdeiMxFqehDNPvoU.webp?r=1f4\" width=\"171\" height=\"96\" /></a><t/d>\n",
       "      <td><a href=\"https://www.netflix.com/title/80013272\">The Boy Next Door</a><t/d>\n",
       "      <td>2023-03-31</td>\n",
       "      <td><a href=\"https://www.imdb.com/title/tt3181822\">4.7</a></td>\n",
       "      <td>nan</td>\n",
       "      <td>Movie</td>\n",
       "    </tr>\n",
       "<tr>\n",
       "      <td><a href=\"https://www.netflix.com/title/60034584\"><img src=\"https://occ-0-58-395.1.nflxso.net/dnm/api/v6/X194eJsgWBDE2aQbaNdmCXGUP-Y/AAAABYGt0_QqXhHX_jwhTh64SJMraInIpr_3MeoV7pHlvs_AHWCHutVS2PF_0LITd3hc8h5v4Rwr63JnBiS5iLRf-60p8wR7oI4BLTI.webp?r=367\" width=\"171\" height=\"96\" /></a><t/d>\n",
       "      <td><a href=\"https://www.netflix.com/title/60034584\">The Terminal</a><t/d>\n",
       "      <td>2023-04-01</td>\n",
       "      <td><a href=\"https://www.imdb.com/title/tt0362227\">7.4</a></td>\n",
       "      <td>Comedy,Drama,Romance</td>\n",
       "      <td>Movie</td>\n",
       "    </tr>\n",
       "<tr>\n",
       "      <td><a href=\"https://www.netflix.com/title/70228042\"><img src=\"https://occ-0-58-395.1.nflxso.net/dnm/api/v6/6gmvu2hxdfnQ55LZZjyzYR4kzGk/AAAABdV4Mr7k8sZ9JHEqov5RzVkA-GZ47eWGtjat0EeEX9cA3YiVu5KO3urpz4RNK5dFl-oVi1prPl4AOitQLZ0WiLYT_5aP71wIGYM.webp?r=12a\" width=\"171\" height=\"96\" /></a><t/d>\n",
       "      <td><a href=\"https://www.netflix.com/title/70228042\">The Dictator</a><t/d>\n",
       "      <td>2023-04-01</td>\n",
       "      <td><a href=\"https://www.imdb.com/title/tt1645170\">6.4</a></td>\n",
       "      <td>nan</td>\n",
       "      <td>Movie</td>\n",
       "    </tr>\n",
       "<tr>\n",
       "      <td><a href=\"https://www.netflix.com/title/70117295\"><img src=\"https://occ-0-58-395.1.nflxso.net/dnm/api/v6/X194eJsgWBDE2aQbaNdmCXGUP-Y/AAAABTVBEyDHCsDLPR1K2N1ec08k7R8hfJMsmJHe-G_ItO5xJReLSsAkDJ4sHf71wtUMDMatBS_ANDrFbsMG7myRGdm0Bsas7VcKTOE.webp?r=5b5\" width=\"171\" height=\"96\" /></a><t/d>\n",
       "      <td><a href=\"https://www.netflix.com/title/70117295\">Shrek Forever After</a><t/d>\n",
       "      <td>2023-04-11</td>\n",
       "      <td><a href=\"https://www.imdb.com/title/tt0892791\">6.3</a></td>\n",
       "      <td>Animation,Adventure,Comedy</td>\n",
       "      <td>Movie</td>\n",
       "    </tr>\n",
       "<tr>\n",
       "      <td><a href=\"https://www.netflix.com/title/70103759\"><img src=\"https://occ-0-58-395.1.nflxso.net/dnm/api/v6/6gmvu2hxdfnQ55LZZjyzYR4kzGk/AAAABVV-10Cnc-SXY7u-FkuTlVawx0MZpkEB6_qB12z9KdedH9Rn5oDF7vDyegmUbj2XvJ4Uxt32CSOXfcKLTQ6ccmKzPRI7oe5VsWI.webp?r=4c2\" width=\"171\" height=\"96\" /></a><t/d>\n",
       "      <td><a href=\"https://www.netflix.com/title/70103759\">The Ugly Truth</a><t/d>\n",
       "      <td>2023-04-23</td>\n",
       "      <td><a href=\"https://www.imdb.com/title/tt1142988\">6.4</a></td>\n",
       "      <td>nan</td>\n",
       "      <td>Movie</td>\n",
       "    </tr>\n",
       "<tr>\n",
       "      <td><a href=\"https://www.netflix.com/title/81170092\"><img src=\"https://occ-0-58-395.1.nflxso.net/dnm/api/v6/X194eJsgWBDE2aQbaNdmCXGUP-Y/AAAABVf_-xpXL8NRWjxTJacV3qMfRjoFGZ6uvypqfeptCax7ezX3QfUZ0iW9F0s1Ff4RB2Hx_LiFT0UTNv_Ek_UGV2bdX8foRHqf4o0.webp?r=bc1\" width=\"171\" height=\"96\" /></a><t/d>\n",
       "      <td><a href=\"https://www.netflix.com/title/81170092\">My Secret Romance</a><t/d>\n",
       "      <td>2023-04-24</td>\n",
       "      <td><a href=\"https://www.imdb.com/title/tt6300100\">7.1</a></td>\n",
       "      <td>Comedy,Romance</td>\n",
       "      <td>TV Series</td>\n",
       "    </tr>\n",
       "  </tbody>\n",
       "</table>  \n"
      ],
      "text/plain": [
       "<IPython.core.display.HTML object>"
      ]
     },
     "metadata": {},
     "output_type": "display_data"
    }
   ],
   "source": [
    "from IPython.display import display, HTML\n",
    "now = datetime.date.today().isoformat()\n",
    "\n",
    "# exclude watched and expired movies\n",
    "df2 = df[(df['Watched']==False) & (df['Last Day To Watch'] >= now)].copy()\n",
    "\n",
    "# filter movies by genres\n",
    "# df2 = df2[df2['Genres'].str.contains('Comedy')]\n",
    "\n",
    "# watch order: expiring movies, single movies, not from Netflix, highest rating\n",
    "df2['Movie Type Rank'] = pd.Categorical(df2['Movie Type'], categories=['Movie', 'TV Series'], ordered=True)\n",
    "df2.sort_values(\n",
    "  by=['Last Day To Watch', 'Movie Type Rank', 'Netflix Original', 'Imdb Rating'], \n",
    "  ascending=[True, True, True, False], \n",
    "  na_position='last',\n",
    "  inplace=True)\n",
    "\n",
    "# limit top 20 movies\n",
    "df2 = df2[:30]\n",
    "\n",
    "# display list\n",
    "def row_to_html(index, row):\n",
    "    id = index\n",
    "    img = row['Image']\n",
    "    title = row['Title']\n",
    "    ldtw = row['Last Day To Watch']\n",
    "    rating = row['Imdb Rating']\n",
    "    imdbid = row['Imdb Id']\n",
    "    genre = row['Genres']\n",
    "    type = row['Movie Type']\n",
    "    tr = f\"\"\"<tr>\n",
    "      <td><a href=\"https://www.netflix.com/title/{id}\"><img src=\"{img}\" width=\"171\" height=\"96\" /></a><t/d>\n",
    "      <td><a href=\"https://www.netflix.com/title/{id}\">{title}</a><t/d>\n",
    "      <td>{ldtw}</td>\n",
    "      <td><a href=\"https://www.imdb.com/title/{imdbid}\">{rating}</a></td>\n",
    "      <td>{genre}</td>\n",
    "      <td>{type}</td>\n",
    "    </tr>\"\"\"\n",
    "    return tr\n",
    "\n",
    "rows = '\\n'.join([row_to_html(index, row) for index, row in df2.iterrows()])\n",
    "table = f\"\"\"\n",
    "<table border=\"1\" class=\"dataframe\">\n",
    "  <thead>\n",
    "    <tr style=\"text-align: right;\">\n",
    "      <th>Image</th>\n",
    "      <th>Title</th>\n",
    "      <th>Last Day To Watch</th>\n",
    "      <th>Rating</th>\n",
    "      <th>Genres</th>\n",
    "      <th>Movie Type</th>\n",
    "    </tr>\n",
    "  </thead>\n",
    "  <tbody>\n",
    "  {rows}\n",
    "  </tbody>\n",
    "</table>  \n",
    "\"\"\"\n",
    "\n",
    "display(HTML(table))"
   ]
  }
 ],
 "metadata": {
  "kernelspec": {
   "display_name": "Python 3 (ipykernel)",
   "language": "python",
   "name": "python3"
  },
  "language_info": {
   "codemirror_mode": {
    "name": "ipython",
    "version": 3
   },
   "file_extension": ".py",
   "mimetype": "text/x-python",
   "name": "python",
   "nbconvert_exporter": "python",
   "pygments_lexer": "ipython3",
   "version": "3.8.9"
  },
  "orig_nbformat": 4,
  "vscode": {
   "interpreter": {
    "hash": "30e736ca548ca53d07c6c63f5f7e249fafdd2b8cdf5878d80cbb1f5088de9f21"
   }
  }
 },
 "nbformat": 4,
 "nbformat_minor": 2
}
