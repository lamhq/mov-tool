{
 "cells": [
  {
   "attachments": {},
   "cell_type": "markdown",
   "metadata": {},
   "source": [
    "# Movie Tool"
   ]
  },
  {
   "cell_type": "code",
   "execution_count": null,
   "metadata": {},
   "outputs": [],
   "source": [
    "%pip install requests\n",
    "%pip install pandas\n",
    "%pip install beautifulsoup4\n",
    "%pip install cinemagoer"
   ]
  },
  {
   "cell_type": "code",
   "execution_count": null,
   "metadata": {},
   "outputs": [],
   "source": [
    "import pandas as pd\n",
    "import numpy as np\n",
    "import time\n",
    "import datetime\n",
    "import utils\n",
    "\n",
    "# IMDB_API_KEY = 'k_e9n79f4d' # daibanglam\n",
    "IMDB_API_KEY = 'k_x9atwnz9' # gravitylabs\n",
    "\n",
    "# the cookie for making API request to Netflix\n",
    "# it can be retrieved from Chrome Dev Tool, after logging to Netflix\n",
    "cookie = 'memclid=b783e450-fa77-488c-b3e2-beff624d26da; nfvdid=BQFmAAEBEEVEA6OC5bEMUUnOPrODS8pgtswkpg-fPl9nVBvzgBL6h4xcvm1AW25uw7kCk3ontTzlyk_IFIznVD7tQB97u8Sb9yS3ZTnKWCiKr7ML5MnwT0FDrZ5vU5D__d-e0TaPHF35IjWRoAUBT5CD29YZRJBC; netflix-sans-normal-3-loaded=true; netflix-sans-bold-3-loaded=true; SecureNetflixId=v%3D2%26mac%3DAQEAEQABABSAzFtR1_DQDeTeE_cs6BSVZTnOPPH7nhw.%26dt%3D1678850528044; NetflixId=ct%3DBQAOAAEBEPZtIjiITaLAjPHmT8jTaq6CUJGFXdchN_Zw-Vx7cAp_OLQ4n1G40FIEEK7V31GV7ekZfVgrcYKqn5MiwcSe29CMiHtsofe2gCh82PpPrA73UhReC-q_dzk5uevCmNNqO0WSa9kZ43iv1s3gOBSLRVVb-DGNKlwycF5hjDc35qDaHwu_CFr3_IGHxJv3penntkSncxthYn-7nPjP55hxpY3igY92-RliOVFx_AByre7Y67bbFX_HqKUMHM9korEcHEqNFGmvMwzynjNidRg4AcR_amRe6L76e9EwFQOObonBiBg5GUe4N0nNZtk5UPCW66cbQaUqdiKQLZuym2IXqeddHQXJEnhia4E-8yV-b67xHWt954Whefxdup61cVwvNsByhcbNXi3NGrbNJYkJtCVfd082MLjjTEFtvWAXUa3q9k17iab3NEE_awvaqhjeHSI2ZllJkH0GC57LZ4S5ICXLXnmpvNbjFjaDXAWheR7rFViVBTg-MlJZMRtmaWfa8N-Ho6_DP7a6_vqjtz6LYkVAtrju_h66QGuUDmfSbXGsfF3T9OcDW1ei2mvKIh6HQG2LzGvGR8yFSUXLKvth5C3HTph9GnxNVUW0cad136VQALpw81bxbdH_bd3xjL0EXSRNAJMJSywgllhFefBzEjCwV42maxqdVFi6AUDi1uJPw4Y6mLn4P-AwXxveScx8feUM9qSy5jlZUMTdVVwgsKNarvLVzgaUZF0q9NrkmQPvP1ZQNE20c8eOBgOuJYA8_Yx8zC0PKvvcXC1tKHrP9Ep16LqNbJte6cIAjWRDuV7nFgY.%26bt%3Ddbl%26ch%3DAQEAEAABABQnw__eUldKi0gl_1tUcwDpV3QssXhziJU.%26v%3D2%26mac%3DAQEAEAABABRdvju3TEOdz_bObCmuQ6s-5JmLA592VCg.; profilesNewSession=0; OptanonConsent=isIABGlobal=false&datestamp=Wed+Mar+15+2023+11%3A00%3A35+GMT%2B0700+(Indochina+Time)&version=202301.1.0&consentId=22b81ae4-c299-4a0c-ac36-055cb8f2e01c&interactionCount=1&landingPath=NotLandingPage&groups=C0001%3A1%2CC0002%3A1%2CC0003%3A1%2CC0004%3A1&hosts=&AwaitingReconsent=false&isGpcEnabled=0'\n",
    "\n",
    "imdb_client = utils.CinemagoerImdbStrategy()\n",
    "netflix_client = utils.HttpNetflixStrategy(cookie)"
   ]
  },
  {
   "attachments": {},
   "cell_type": "markdown",
   "metadata": {},
   "source": [
    "## Load movie list"
   ]
  },
  {
   "cell_type": "code",
   "execution_count": null,
   "metadata": {},
   "outputs": [],
   "source": [
    "mov_file = 'data/movies.csv'\n",
    "df = pd.read_csv(mov_file, index_col='Netflix Id')\n",
    "len(df)"
   ]
  },
  {
   "attachments": {},
   "cell_type": "markdown",
   "metadata": {},
   "source": [
    "## Save movie list"
   ]
  },
  {
   "cell_type": "code",
   "execution_count": null,
   "metadata": {},
   "outputs": [],
   "source": [
    "df.to_csv('data/movies.csv')"
   ]
  },
  {
   "attachments": {},
   "cell_type": "markdown",
   "metadata": {},
   "source": [
    "## Get My List movies"
   ]
  },
  {
   "cell_type": "markdown",
   "metadata": {},
   "source": [
    "Fetch movies from My List"
   ]
  },
  {
   "cell_type": "code",
   "execution_count": null,
   "metadata": {},
   "outputs": [],
   "source": [
    "my_list_movies = netflix_client.get_my_list()\n",
    "len(my_list_movies)"
   ]
  },
  {
   "cell_type": "markdown",
   "metadata": {},
   "source": [
    "Add new movies to movie list"
   ]
  },
  {
   "cell_type": "code",
   "execution_count": null,
   "metadata": {},
   "outputs": [],
   "source": [
    "new_movies = [mov for mov in my_list_movies if mov['Netflix Id'] not in df.index]\n",
    "if len(new_movies) > 0:\n",
    "  df = pd.concat([df, pd.DataFrame.from_records(new_movies, index='Netflix Id')])\n",
    "len(df)"
   ]
  },
  {
   "attachments": {},
   "cell_type": "markdown",
   "metadata": {},
   "source": [
    "## Get Last day to watch on Netflix"
   ]
  },
  {
   "cell_type": "code",
   "execution_count": null,
   "metadata": {},
   "outputs": [],
   "source": [
    "now = datetime.date.today()\n",
    "for index, row in df.iterrows():\n",
    "  # skip it has been processed\n",
    "  last_fetch = df.at[index, 'Last Fetch']\n",
    "  if isinstance(last_fetch, str) and (now - datetime.datetime.strptime(last_fetch, '%Y-%m-%d').date()).days < 5:\n",
    "    continue\n",
    "  \n",
    "  # skip if is Netflix original\n",
    "  if df.at[index, 'Netflix Original']:\n",
    "    continue\n",
    "\n",
    "  df.at[index, 'Last Day To Watch'] = netflix_client.get_last_date_to_watch(index)\n",
    "  df.at[index, 'Last Fetch'] = now.isoformat()"
   ]
  },
  {
   "attachments": {},
   "cell_type": "markdown",
   "metadata": {},
   "source": [
    "## Get genres and rating"
   ]
  },
  {
   "cell_type": "code",
   "execution_count": null,
   "metadata": {},
   "outputs": [],
   "source": [
    "df2 = df.sort_values(by='Last Day To Watch', ascending=True, na_position='last')\n",
    "df2.head()\n",
    "now = datetime.date.today()\n",
    "\n",
    "for index, row in df2.iterrows():\n",
    "  if not np.isnan(row['Imdb Rating']):\n",
    "    continue\n",
    "  \n",
    "  print(f\"processing movie {row['Title']}\")\n",
    "  info = imdb_client.get_movie_info(row['Title'], row['Release Year'])\n",
    "  if info is None:\n",
    "    continue\n",
    "  \n",
    "  df.at[index, 'Genres'] = ','.join(info.genres)\n",
    "  df.at[index, 'Imdb Rating'] = info.rating\n",
    "  time.sleep(1)"
   ]
  },
  {
   "cell_type": "markdown",
   "metadata": {},
   "source": [
    "## Find movies to watch"
   ]
  },
  {
   "cell_type": "code",
   "execution_count": null,
   "metadata": {},
   "outputs": [],
   "source": [
    "from IPython.display import display, HTML\n",
    "\n",
    "df2 = df.copy()\n",
    "\n",
    "# filter movies by genres\n",
    "# df2 = df2[df2['Genres'].str.contains('Comedy')]\n",
    "\n",
    "# watch expiring movies first, then by rating\n",
    "df2 = df2.sort_values(by=['Last Day To Watch', 'Imdb Rating'], \n",
    "               ascending=[True, False], \n",
    "               na_position='last')\n",
    "\n",
    "# show movie list\n",
    "df2['Netflix Link'] = df2.index\n",
    "display(HTML(df2.to_html(\n",
    "  columns=['Image', 'Title', 'Last Day To Watch', 'Imdb Rating', 'Genres', 'Release Year', 'Movie Type', 'Netflix Link'],\n",
    "  formatters={\n",
    "    'Netflix Link': lambda val: f'<a href=\"https://www.netflix.com/title/{val}\">{val}</a>',\n",
    "    'Image': lambda val: f'<img src=\"{val}\" width=\"171\" height=\"96\" />',\n",
    "  },\n",
    "  escape=False,\n",
    "  index=False, \n",
    ")))"
   ]
  }
 ],
 "metadata": {
  "kernelspec": {
   "display_name": "Python 3 (ipykernel)",
   "language": "python",
   "name": "python3"
  },
  "language_info": {
   "codemirror_mode": {
    "name": "ipython",
    "version": 3
   },
   "file_extension": ".py",
   "mimetype": "text/x-python",
   "name": "python",
   "nbconvert_exporter": "python",
   "pygments_lexer": "ipython3",
   "version": "3.8.9"
  },
  "orig_nbformat": 4,
  "vscode": {
   "interpreter": {
    "hash": "30e736ca548ca53d07c6c63f5f7e249fafdd2b8cdf5878d80cbb1f5088de9f21"
   }
  }
 },
 "nbformat": 4,
 "nbformat_minor": 2
}
